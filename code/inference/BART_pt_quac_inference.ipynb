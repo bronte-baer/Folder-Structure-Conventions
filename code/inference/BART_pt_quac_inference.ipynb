{
  "nbformat": 4,
  "nbformat_minor": 0,
  "metadata": {
    "colab": {
      "provenance": [],
      "collapsed_sections": [],
      "machine_shape": "hm",
      "include_colab_link": true
    },
    "kernelspec": {
      "name": "python3",
      "display_name": "Python 3"
    },
    "language_info": {
      "name": "python"
    },
    "accelerator": "GPU",
    "gpuClass": "standard",
    "widgets": {
      "application/vnd.jupyter.widget-state+json": {
        "c1923f23e6104e3f830469dc272d4a3a": {
          "model_module": "@jupyter-widgets/controls",
          "model_name": "HBoxModel",
          "model_module_version": "1.5.0",
          "state": {
            "_dom_classes": [],
            "_model_module": "@jupyter-widgets/controls",
            "_model_module_version": "1.5.0",
            "_model_name": "HBoxModel",
            "_view_count": null,
            "_view_module": "@jupyter-widgets/controls",
            "_view_module_version": "1.5.0",
            "_view_name": "HBoxView",
            "box_style": "",
            "children": [
              "IPY_MODEL_f0c333b5c744411d9937f0d96d881bd3",
              "IPY_MODEL_551b46fba7604c87a18f99321ead8f9c",
              "IPY_MODEL_59ef6288063549818183eef7e5d92518"
            ],
            "layout": "IPY_MODEL_d6212fd34ce04340933a15ffc017d228"
          }
        },
        "f0c333b5c744411d9937f0d96d881bd3": {
          "model_module": "@jupyter-widgets/controls",
          "model_name": "HTMLModel",
          "model_module_version": "1.5.0",
          "state": {
            "_dom_classes": [],
            "_model_module": "@jupyter-widgets/controls",
            "_model_module_version": "1.5.0",
            "_model_name": "HTMLModel",
            "_view_count": null,
            "_view_module": "@jupyter-widgets/controls",
            "_view_module_version": "1.5.0",
            "_view_name": "HTMLView",
            "description": "",
            "description_tooltip": null,
            "layout": "IPY_MODEL_99a1c655323c47f183fd136da36170e1",
            "placeholder": "​",
            "style": "IPY_MODEL_84bb9087f4da4cf0a7e67fb54ecc45c2",
            "value": "Downloading: 100%"
          }
        },
        "551b46fba7604c87a18f99321ead8f9c": {
          "model_module": "@jupyter-widgets/controls",
          "model_name": "FloatProgressModel",
          "model_module_version": "1.5.0",
          "state": {
            "_dom_classes": [],
            "_model_module": "@jupyter-widgets/controls",
            "_model_module_version": "1.5.0",
            "_model_name": "FloatProgressModel",
            "_view_count": null,
            "_view_module": "@jupyter-widgets/controls",
            "_view_module_version": "1.5.0",
            "_view_name": "ProgressView",
            "bar_style": "success",
            "description": "",
            "description_tooltip": null,
            "layout": "IPY_MODEL_f797dc5be06e47428526d6bde2690859",
            "max": 898823,
            "min": 0,
            "orientation": "horizontal",
            "style": "IPY_MODEL_676f15a849574139be540ec3f7ad82a6",
            "value": 898823
          }
        },
        "59ef6288063549818183eef7e5d92518": {
          "model_module": "@jupyter-widgets/controls",
          "model_name": "HTMLModel",
          "model_module_version": "1.5.0",
          "state": {
            "_dom_classes": [],
            "_model_module": "@jupyter-widgets/controls",
            "_model_module_version": "1.5.0",
            "_model_name": "HTMLModel",
            "_view_count": null,
            "_view_module": "@jupyter-widgets/controls",
            "_view_module_version": "1.5.0",
            "_view_name": "HTMLView",
            "description": "",
            "description_tooltip": null,
            "layout": "IPY_MODEL_c413f75d43f7410eaf7b202891ed3322",
            "placeholder": "​",
            "style": "IPY_MODEL_73cffa15463f4d57be4b736543cc1b0b",
            "value": " 899k/899k [00:01&lt;00:00, 1.16MB/s]"
          }
        },
        "d6212fd34ce04340933a15ffc017d228": {
          "model_module": "@jupyter-widgets/base",
          "model_name": "LayoutModel",
          "model_module_version": "1.2.0",
          "state": {
            "_model_module": "@jupyter-widgets/base",
            "_model_module_version": "1.2.0",
            "_model_name": "LayoutModel",
            "_view_count": null,
            "_view_module": "@jupyter-widgets/base",
            "_view_module_version": "1.2.0",
            "_view_name": "LayoutView",
            "align_content": null,
            "align_items": null,
            "align_self": null,
            "border": null,
            "bottom": null,
            "display": null,
            "flex": null,
            "flex_flow": null,
            "grid_area": null,
            "grid_auto_columns": null,
            "grid_auto_flow": null,
            "grid_auto_rows": null,
            "grid_column": null,
            "grid_gap": null,
            "grid_row": null,
            "grid_template_areas": null,
            "grid_template_columns": null,
            "grid_template_rows": null,
            "height": null,
            "justify_content": null,
            "justify_items": null,
            "left": null,
            "margin": null,
            "max_height": null,
            "max_width": null,
            "min_height": null,
            "min_width": null,
            "object_fit": null,
            "object_position": null,
            "order": null,
            "overflow": null,
            "overflow_x": null,
            "overflow_y": null,
            "padding": null,
            "right": null,
            "top": null,
            "visibility": null,
            "width": null
          }
        },
        "99a1c655323c47f183fd136da36170e1": {
          "model_module": "@jupyter-widgets/base",
          "model_name": "LayoutModel",
          "model_module_version": "1.2.0",
          "state": {
            "_model_module": "@jupyter-widgets/base",
            "_model_module_version": "1.2.0",
            "_model_name": "LayoutModel",
            "_view_count": null,
            "_view_module": "@jupyter-widgets/base",
            "_view_module_version": "1.2.0",
            "_view_name": "LayoutView",
            "align_content": null,
            "align_items": null,
            "align_self": null,
            "border": null,
            "bottom": null,
            "display": null,
            "flex": null,
            "flex_flow": null,
            "grid_area": null,
            "grid_auto_columns": null,
            "grid_auto_flow": null,
            "grid_auto_rows": null,
            "grid_column": null,
            "grid_gap": null,
            "grid_row": null,
            "grid_template_areas": null,
            "grid_template_columns": null,
            "grid_template_rows": null,
            "height": null,
            "justify_content": null,
            "justify_items": null,
            "left": null,
            "margin": null,
            "max_height": null,
            "max_width": null,
            "min_height": null,
            "min_width": null,
            "object_fit": null,
            "object_position": null,
            "order": null,
            "overflow": null,
            "overflow_x": null,
            "overflow_y": null,
            "padding": null,
            "right": null,
            "top": null,
            "visibility": null,
            "width": null
          }
        },
        "84bb9087f4da4cf0a7e67fb54ecc45c2": {
          "model_module": "@jupyter-widgets/controls",
          "model_name": "DescriptionStyleModel",
          "model_module_version": "1.5.0",
          "state": {
            "_model_module": "@jupyter-widgets/controls",
            "_model_module_version": "1.5.0",
            "_model_name": "DescriptionStyleModel",
            "_view_count": null,
            "_view_module": "@jupyter-widgets/base",
            "_view_module_version": "1.2.0",
            "_view_name": "StyleView",
            "description_width": ""
          }
        },
        "f797dc5be06e47428526d6bde2690859": {
          "model_module": "@jupyter-widgets/base",
          "model_name": "LayoutModel",
          "model_module_version": "1.2.0",
          "state": {
            "_model_module": "@jupyter-widgets/base",
            "_model_module_version": "1.2.0",
            "_model_name": "LayoutModel",
            "_view_count": null,
            "_view_module": "@jupyter-widgets/base",
            "_view_module_version": "1.2.0",
            "_view_name": "LayoutView",
            "align_content": null,
            "align_items": null,
            "align_self": null,
            "border": null,
            "bottom": null,
            "display": null,
            "flex": null,
            "flex_flow": null,
            "grid_area": null,
            "grid_auto_columns": null,
            "grid_auto_flow": null,
            "grid_auto_rows": null,
            "grid_column": null,
            "grid_gap": null,
            "grid_row": null,
            "grid_template_areas": null,
            "grid_template_columns": null,
            "grid_template_rows": null,
            "height": null,
            "justify_content": null,
            "justify_items": null,
            "left": null,
            "margin": null,
            "max_height": null,
            "max_width": null,
            "min_height": null,
            "min_width": null,
            "object_fit": null,
            "object_position": null,
            "order": null,
            "overflow": null,
            "overflow_x": null,
            "overflow_y": null,
            "padding": null,
            "right": null,
            "top": null,
            "visibility": null,
            "width": null
          }
        },
        "676f15a849574139be540ec3f7ad82a6": {
          "model_module": "@jupyter-widgets/controls",
          "model_name": "ProgressStyleModel",
          "model_module_version": "1.5.0",
          "state": {
            "_model_module": "@jupyter-widgets/controls",
            "_model_module_version": "1.5.0",
            "_model_name": "ProgressStyleModel",
            "_view_count": null,
            "_view_module": "@jupyter-widgets/base",
            "_view_module_version": "1.2.0",
            "_view_name": "StyleView",
            "bar_color": null,
            "description_width": ""
          }
        },
        "c413f75d43f7410eaf7b202891ed3322": {
          "model_module": "@jupyter-widgets/base",
          "model_name": "LayoutModel",
          "model_module_version": "1.2.0",
          "state": {
            "_model_module": "@jupyter-widgets/base",
            "_model_module_version": "1.2.0",
            "_model_name": "LayoutModel",
            "_view_count": null,
            "_view_module": "@jupyter-widgets/base",
            "_view_module_version": "1.2.0",
            "_view_name": "LayoutView",
            "align_content": null,
            "align_items": null,
            "align_self": null,
            "border": null,
            "bottom": null,
            "display": null,
            "flex": null,
            "flex_flow": null,
            "grid_area": null,
            "grid_auto_columns": null,
            "grid_auto_flow": null,
            "grid_auto_rows": null,
            "grid_column": null,
            "grid_gap": null,
            "grid_row": null,
            "grid_template_areas": null,
            "grid_template_columns": null,
            "grid_template_rows": null,
            "height": null,
            "justify_content": null,
            "justify_items": null,
            "left": null,
            "margin": null,
            "max_height": null,
            "max_width": null,
            "min_height": null,
            "min_width": null,
            "object_fit": null,
            "object_position": null,
            "order": null,
            "overflow": null,
            "overflow_x": null,
            "overflow_y": null,
            "padding": null,
            "right": null,
            "top": null,
            "visibility": null,
            "width": null
          }
        },
        "73cffa15463f4d57be4b736543cc1b0b": {
          "model_module": "@jupyter-widgets/controls",
          "model_name": "DescriptionStyleModel",
          "model_module_version": "1.5.0",
          "state": {
            "_model_module": "@jupyter-widgets/controls",
            "_model_module_version": "1.5.0",
            "_model_name": "DescriptionStyleModel",
            "_view_count": null,
            "_view_module": "@jupyter-widgets/base",
            "_view_module_version": "1.2.0",
            "_view_name": "StyleView",
            "description_width": ""
          }
        },
        "fb05cc74028f43ffbe2dfbc6c9d798cb": {
          "model_module": "@jupyter-widgets/controls",
          "model_name": "HBoxModel",
          "model_module_version": "1.5.0",
          "state": {
            "_dom_classes": [],
            "_model_module": "@jupyter-widgets/controls",
            "_model_module_version": "1.5.0",
            "_model_name": "HBoxModel",
            "_view_count": null,
            "_view_module": "@jupyter-widgets/controls",
            "_view_module_version": "1.5.0",
            "_view_name": "HBoxView",
            "box_style": "",
            "children": [
              "IPY_MODEL_104467c5be964c42913e143ba28046b0",
              "IPY_MODEL_8f80687ae87441d3ac04bd9285137c05",
              "IPY_MODEL_481257b5dc6a4dc68b7139a1e4adc167"
            ],
            "layout": "IPY_MODEL_ad200ae6d0d741a785baddeaf7c1e33a"
          }
        },
        "104467c5be964c42913e143ba28046b0": {
          "model_module": "@jupyter-widgets/controls",
          "model_name": "HTMLModel",
          "model_module_version": "1.5.0",
          "state": {
            "_dom_classes": [],
            "_model_module": "@jupyter-widgets/controls",
            "_model_module_version": "1.5.0",
            "_model_name": "HTMLModel",
            "_view_count": null,
            "_view_module": "@jupyter-widgets/controls",
            "_view_module_version": "1.5.0",
            "_view_name": "HTMLView",
            "description": "",
            "description_tooltip": null,
            "layout": "IPY_MODEL_38bfc0e852df4b279d7c322f54082bb9",
            "placeholder": "​",
            "style": "IPY_MODEL_74c1a6d96e204706896d9fb2041e7436",
            "value": "Downloading: 100%"
          }
        },
        "8f80687ae87441d3ac04bd9285137c05": {
          "model_module": "@jupyter-widgets/controls",
          "model_name": "FloatProgressModel",
          "model_module_version": "1.5.0",
          "state": {
            "_dom_classes": [],
            "_model_module": "@jupyter-widgets/controls",
            "_model_module_version": "1.5.0",
            "_model_name": "FloatProgressModel",
            "_view_count": null,
            "_view_module": "@jupyter-widgets/controls",
            "_view_module_version": "1.5.0",
            "_view_name": "ProgressView",
            "bar_style": "success",
            "description": "",
            "description_tooltip": null,
            "layout": "IPY_MODEL_0e26a76ab580441b9c1ced782da7b580",
            "max": 456318,
            "min": 0,
            "orientation": "horizontal",
            "style": "IPY_MODEL_c09f7f2107674297b8b776a834bdcc64",
            "value": 456318
          }
        },
        "481257b5dc6a4dc68b7139a1e4adc167": {
          "model_module": "@jupyter-widgets/controls",
          "model_name": "HTMLModel",
          "model_module_version": "1.5.0",
          "state": {
            "_dom_classes": [],
            "_model_module": "@jupyter-widgets/controls",
            "_model_module_version": "1.5.0",
            "_model_name": "HTMLModel",
            "_view_count": null,
            "_view_module": "@jupyter-widgets/controls",
            "_view_module_version": "1.5.0",
            "_view_name": "HTMLView",
            "description": "",
            "description_tooltip": null,
            "layout": "IPY_MODEL_0a9717b92f5942aa9996d3481593b1ff",
            "placeholder": "​",
            "style": "IPY_MODEL_55e286335e134539b1cac08227e5bb2a",
            "value": " 456k/456k [00:00&lt;00:00, 635kB/s]"
          }
        },
        "ad200ae6d0d741a785baddeaf7c1e33a": {
          "model_module": "@jupyter-widgets/base",
          "model_name": "LayoutModel",
          "model_module_version": "1.2.0",
          "state": {
            "_model_module": "@jupyter-widgets/base",
            "_model_module_version": "1.2.0",
            "_model_name": "LayoutModel",
            "_view_count": null,
            "_view_module": "@jupyter-widgets/base",
            "_view_module_version": "1.2.0",
            "_view_name": "LayoutView",
            "align_content": null,
            "align_items": null,
            "align_self": null,
            "border": null,
            "bottom": null,
            "display": null,
            "flex": null,
            "flex_flow": null,
            "grid_area": null,
            "grid_auto_columns": null,
            "grid_auto_flow": null,
            "grid_auto_rows": null,
            "grid_column": null,
            "grid_gap": null,
            "grid_row": null,
            "grid_template_areas": null,
            "grid_template_columns": null,
            "grid_template_rows": null,
            "height": null,
            "justify_content": null,
            "justify_items": null,
            "left": null,
            "margin": null,
            "max_height": null,
            "max_width": null,
            "min_height": null,
            "min_width": null,
            "object_fit": null,
            "object_position": null,
            "order": null,
            "overflow": null,
            "overflow_x": null,
            "overflow_y": null,
            "padding": null,
            "right": null,
            "top": null,
            "visibility": null,
            "width": null
          }
        },
        "38bfc0e852df4b279d7c322f54082bb9": {
          "model_module": "@jupyter-widgets/base",
          "model_name": "LayoutModel",
          "model_module_version": "1.2.0",
          "state": {
            "_model_module": "@jupyter-widgets/base",
            "_model_module_version": "1.2.0",
            "_model_name": "LayoutModel",
            "_view_count": null,
            "_view_module": "@jupyter-widgets/base",
            "_view_module_version": "1.2.0",
            "_view_name": "LayoutView",
            "align_content": null,
            "align_items": null,
            "align_self": null,
            "border": null,
            "bottom": null,
            "display": null,
            "flex": null,
            "flex_flow": null,
            "grid_area": null,
            "grid_auto_columns": null,
            "grid_auto_flow": null,
            "grid_auto_rows": null,
            "grid_column": null,
            "grid_gap": null,
            "grid_row": null,
            "grid_template_areas": null,
            "grid_template_columns": null,
            "grid_template_rows": null,
            "height": null,
            "justify_content": null,
            "justify_items": null,
            "left": null,
            "margin": null,
            "max_height": null,
            "max_width": null,
            "min_height": null,
            "min_width": null,
            "object_fit": null,
            "object_position": null,
            "order": null,
            "overflow": null,
            "overflow_x": null,
            "overflow_y": null,
            "padding": null,
            "right": null,
            "top": null,
            "visibility": null,
            "width": null
          }
        },
        "74c1a6d96e204706896d9fb2041e7436": {
          "model_module": "@jupyter-widgets/controls",
          "model_name": "DescriptionStyleModel",
          "model_module_version": "1.5.0",
          "state": {
            "_model_module": "@jupyter-widgets/controls",
            "_model_module_version": "1.5.0",
            "_model_name": "DescriptionStyleModel",
            "_view_count": null,
            "_view_module": "@jupyter-widgets/base",
            "_view_module_version": "1.2.0",
            "_view_name": "StyleView",
            "description_width": ""
          }
        },
        "0e26a76ab580441b9c1ced782da7b580": {
          "model_module": "@jupyter-widgets/base",
          "model_name": "LayoutModel",
          "model_module_version": "1.2.0",
          "state": {
            "_model_module": "@jupyter-widgets/base",
            "_model_module_version": "1.2.0",
            "_model_name": "LayoutModel",
            "_view_count": null,
            "_view_module": "@jupyter-widgets/base",
            "_view_module_version": "1.2.0",
            "_view_name": "LayoutView",
            "align_content": null,
            "align_items": null,
            "align_self": null,
            "border": null,
            "bottom": null,
            "display": null,
            "flex": null,
            "flex_flow": null,
            "grid_area": null,
            "grid_auto_columns": null,
            "grid_auto_flow": null,
            "grid_auto_rows": null,
            "grid_column": null,
            "grid_gap": null,
            "grid_row": null,
            "grid_template_areas": null,
            "grid_template_columns": null,
            "grid_template_rows": null,
            "height": null,
            "justify_content": null,
            "justify_items": null,
            "left": null,
            "margin": null,
            "max_height": null,
            "max_width": null,
            "min_height": null,
            "min_width": null,
            "object_fit": null,
            "object_position": null,
            "order": null,
            "overflow": null,
            "overflow_x": null,
            "overflow_y": null,
            "padding": null,
            "right": null,
            "top": null,
            "visibility": null,
            "width": null
          }
        },
        "c09f7f2107674297b8b776a834bdcc64": {
          "model_module": "@jupyter-widgets/controls",
          "model_name": "ProgressStyleModel",
          "model_module_version": "1.5.0",
          "state": {
            "_model_module": "@jupyter-widgets/controls",
            "_model_module_version": "1.5.0",
            "_model_name": "ProgressStyleModel",
            "_view_count": null,
            "_view_module": "@jupyter-widgets/base",
            "_view_module_version": "1.2.0",
            "_view_name": "StyleView",
            "bar_color": null,
            "description_width": ""
          }
        },
        "0a9717b92f5942aa9996d3481593b1ff": {
          "model_module": "@jupyter-widgets/base",
          "model_name": "LayoutModel",
          "model_module_version": "1.2.0",
          "state": {
            "_model_module": "@jupyter-widgets/base",
            "_model_module_version": "1.2.0",
            "_model_name": "LayoutModel",
            "_view_count": null,
            "_view_module": "@jupyter-widgets/base",
            "_view_module_version": "1.2.0",
            "_view_name": "LayoutView",
            "align_content": null,
            "align_items": null,
            "align_self": null,
            "border": null,
            "bottom": null,
            "display": null,
            "flex": null,
            "flex_flow": null,
            "grid_area": null,
            "grid_auto_columns": null,
            "grid_auto_flow": null,
            "grid_auto_rows": null,
            "grid_column": null,
            "grid_gap": null,
            "grid_row": null,
            "grid_template_areas": null,
            "grid_template_columns": null,
            "grid_template_rows": null,
            "height": null,
            "justify_content": null,
            "justify_items": null,
            "left": null,
            "margin": null,
            "max_height": null,
            "max_width": null,
            "min_height": null,
            "min_width": null,
            "object_fit": null,
            "object_position": null,
            "order": null,
            "overflow": null,
            "overflow_x": null,
            "overflow_y": null,
            "padding": null,
            "right": null,
            "top": null,
            "visibility": null,
            "width": null
          }
        },
        "55e286335e134539b1cac08227e5bb2a": {
          "model_module": "@jupyter-widgets/controls",
          "model_name": "DescriptionStyleModel",
          "model_module_version": "1.5.0",
          "state": {
            "_model_module": "@jupyter-widgets/controls",
            "_model_module_version": "1.5.0",
            "_model_name": "DescriptionStyleModel",
            "_view_count": null,
            "_view_module": "@jupyter-widgets/base",
            "_view_module_version": "1.2.0",
            "_view_name": "StyleView",
            "description_width": ""
          }
        },
        "73ab12fd3002487eaabe3deeefe6dbea": {
          "model_module": "@jupyter-widgets/controls",
          "model_name": "HBoxModel",
          "model_module_version": "1.5.0",
          "state": {
            "_dom_classes": [],
            "_model_module": "@jupyter-widgets/controls",
            "_model_module_version": "1.5.0",
            "_model_name": "HBoxModel",
            "_view_count": null,
            "_view_module": "@jupyter-widgets/controls",
            "_view_module_version": "1.5.0",
            "_view_name": "HBoxView",
            "box_style": "",
            "children": [
              "IPY_MODEL_012f3b6164bf4d57911eeea953a10d9f",
              "IPY_MODEL_d2686b46a74a41879191fc4f8e477ccc",
              "IPY_MODEL_a901ee94e19c4698aa213fdcb2092cda"
            ],
            "layout": "IPY_MODEL_be1a67ef30214da49d497f561bb263f2"
          }
        },
        "012f3b6164bf4d57911eeea953a10d9f": {
          "model_module": "@jupyter-widgets/controls",
          "model_name": "HTMLModel",
          "model_module_version": "1.5.0",
          "state": {
            "_dom_classes": [],
            "_model_module": "@jupyter-widgets/controls",
            "_model_module_version": "1.5.0",
            "_model_name": "HTMLModel",
            "_view_count": null,
            "_view_module": "@jupyter-widgets/controls",
            "_view_module_version": "1.5.0",
            "_view_name": "HTMLView",
            "description": "",
            "description_tooltip": null,
            "layout": "IPY_MODEL_288e07d4c6b94839b9dbb1ae0da22fc6",
            "placeholder": "​",
            "style": "IPY_MODEL_6531a24c279541ad96afe5aff70f3161",
            "value": "Downloading: 100%"
          }
        },
        "d2686b46a74a41879191fc4f8e477ccc": {
          "model_module": "@jupyter-widgets/controls",
          "model_name": "FloatProgressModel",
          "model_module_version": "1.5.0",
          "state": {
            "_dom_classes": [],
            "_model_module": "@jupyter-widgets/controls",
            "_model_module_version": "1.5.0",
            "_model_name": "FloatProgressModel",
            "_view_count": null,
            "_view_module": "@jupyter-widgets/controls",
            "_view_module_version": "1.5.0",
            "_view_name": "ProgressView",
            "bar_style": "success",
            "description": "",
            "description_tooltip": null,
            "layout": "IPY_MODEL_f27d53f755b04784b8f00f9c9584db59",
            "max": 1716,
            "min": 0,
            "orientation": "horizontal",
            "style": "IPY_MODEL_b399fe56b2c5466c9cf065f9f4876247",
            "value": 1716
          }
        },
        "a901ee94e19c4698aa213fdcb2092cda": {
          "model_module": "@jupyter-widgets/controls",
          "model_name": "HTMLModel",
          "model_module_version": "1.5.0",
          "state": {
            "_dom_classes": [],
            "_model_module": "@jupyter-widgets/controls",
            "_model_module_version": "1.5.0",
            "_model_name": "HTMLModel",
            "_view_count": null,
            "_view_module": "@jupyter-widgets/controls",
            "_view_module_version": "1.5.0",
            "_view_name": "HTMLView",
            "description": "",
            "description_tooltip": null,
            "layout": "IPY_MODEL_4ec33b686b3447b6926a14c2e73503ef",
            "placeholder": "​",
            "style": "IPY_MODEL_e69a9b01b0174d499418b480bc427556",
            "value": " 1.72k/1.72k [00:00&lt;00:00, 57.7kB/s]"
          }
        },
        "be1a67ef30214da49d497f561bb263f2": {
          "model_module": "@jupyter-widgets/base",
          "model_name": "LayoutModel",
          "model_module_version": "1.2.0",
          "state": {
            "_model_module": "@jupyter-widgets/base",
            "_model_module_version": "1.2.0",
            "_model_name": "LayoutModel",
            "_view_count": null,
            "_view_module": "@jupyter-widgets/base",
            "_view_module_version": "1.2.0",
            "_view_name": "LayoutView",
            "align_content": null,
            "align_items": null,
            "align_self": null,
            "border": null,
            "bottom": null,
            "display": null,
            "flex": null,
            "flex_flow": null,
            "grid_area": null,
            "grid_auto_columns": null,
            "grid_auto_flow": null,
            "grid_auto_rows": null,
            "grid_column": null,
            "grid_gap": null,
            "grid_row": null,
            "grid_template_areas": null,
            "grid_template_columns": null,
            "grid_template_rows": null,
            "height": null,
            "justify_content": null,
            "justify_items": null,
            "left": null,
            "margin": null,
            "max_height": null,
            "max_width": null,
            "min_height": null,
            "min_width": null,
            "object_fit": null,
            "object_position": null,
            "order": null,
            "overflow": null,
            "overflow_x": null,
            "overflow_y": null,
            "padding": null,
            "right": null,
            "top": null,
            "visibility": null,
            "width": null
          }
        },
        "288e07d4c6b94839b9dbb1ae0da22fc6": {
          "model_module": "@jupyter-widgets/base",
          "model_name": "LayoutModel",
          "model_module_version": "1.2.0",
          "state": {
            "_model_module": "@jupyter-widgets/base",
            "_model_module_version": "1.2.0",
            "_model_name": "LayoutModel",
            "_view_count": null,
            "_view_module": "@jupyter-widgets/base",
            "_view_module_version": "1.2.0",
            "_view_name": "LayoutView",
            "align_content": null,
            "align_items": null,
            "align_self": null,
            "border": null,
            "bottom": null,
            "display": null,
            "flex": null,
            "flex_flow": null,
            "grid_area": null,
            "grid_auto_columns": null,
            "grid_auto_flow": null,
            "grid_auto_rows": null,
            "grid_column": null,
            "grid_gap": null,
            "grid_row": null,
            "grid_template_areas": null,
            "grid_template_columns": null,
            "grid_template_rows": null,
            "height": null,
            "justify_content": null,
            "justify_items": null,
            "left": null,
            "margin": null,
            "max_height": null,
            "max_width": null,
            "min_height": null,
            "min_width": null,
            "object_fit": null,
            "object_position": null,
            "order": null,
            "overflow": null,
            "overflow_x": null,
            "overflow_y": null,
            "padding": null,
            "right": null,
            "top": null,
            "visibility": null,
            "width": null
          }
        },
        "6531a24c279541ad96afe5aff70f3161": {
          "model_module": "@jupyter-widgets/controls",
          "model_name": "DescriptionStyleModel",
          "model_module_version": "1.5.0",
          "state": {
            "_model_module": "@jupyter-widgets/controls",
            "_model_module_version": "1.5.0",
            "_model_name": "DescriptionStyleModel",
            "_view_count": null,
            "_view_module": "@jupyter-widgets/base",
            "_view_module_version": "1.2.0",
            "_view_name": "StyleView",
            "description_width": ""
          }
        },
        "f27d53f755b04784b8f00f9c9584db59": {
          "model_module": "@jupyter-widgets/base",
          "model_name": "LayoutModel",
          "model_module_version": "1.2.0",
          "state": {
            "_model_module": "@jupyter-widgets/base",
            "_model_module_version": "1.2.0",
            "_model_name": "LayoutModel",
            "_view_count": null,
            "_view_module": "@jupyter-widgets/base",
            "_view_module_version": "1.2.0",
            "_view_name": "LayoutView",
            "align_content": null,
            "align_items": null,
            "align_self": null,
            "border": null,
            "bottom": null,
            "display": null,
            "flex": null,
            "flex_flow": null,
            "grid_area": null,
            "grid_auto_columns": null,
            "grid_auto_flow": null,
            "grid_auto_rows": null,
            "grid_column": null,
            "grid_gap": null,
            "grid_row": null,
            "grid_template_areas": null,
            "grid_template_columns": null,
            "grid_template_rows": null,
            "height": null,
            "justify_content": null,
            "justify_items": null,
            "left": null,
            "margin": null,
            "max_height": null,
            "max_width": null,
            "min_height": null,
            "min_width": null,
            "object_fit": null,
            "object_position": null,
            "order": null,
            "overflow": null,
            "overflow_x": null,
            "overflow_y": null,
            "padding": null,
            "right": null,
            "top": null,
            "visibility": null,
            "width": null
          }
        },
        "b399fe56b2c5466c9cf065f9f4876247": {
          "model_module": "@jupyter-widgets/controls",
          "model_name": "ProgressStyleModel",
          "model_module_version": "1.5.0",
          "state": {
            "_model_module": "@jupyter-widgets/controls",
            "_model_module_version": "1.5.0",
            "_model_name": "ProgressStyleModel",
            "_view_count": null,
            "_view_module": "@jupyter-widgets/base",
            "_view_module_version": "1.2.0",
            "_view_name": "StyleView",
            "bar_color": null,
            "description_width": ""
          }
        },
        "4ec33b686b3447b6926a14c2e73503ef": {
          "model_module": "@jupyter-widgets/base",
          "model_name": "LayoutModel",
          "model_module_version": "1.2.0",
          "state": {
            "_model_module": "@jupyter-widgets/base",
            "_model_module_version": "1.2.0",
            "_model_name": "LayoutModel",
            "_view_count": null,
            "_view_module": "@jupyter-widgets/base",
            "_view_module_version": "1.2.0",
            "_view_name": "LayoutView",
            "align_content": null,
            "align_items": null,
            "align_self": null,
            "border": null,
            "bottom": null,
            "display": null,
            "flex": null,
            "flex_flow": null,
            "grid_area": null,
            "grid_auto_columns": null,
            "grid_auto_flow": null,
            "grid_auto_rows": null,
            "grid_column": null,
            "grid_gap": null,
            "grid_row": null,
            "grid_template_areas": null,
            "grid_template_columns": null,
            "grid_template_rows": null,
            "height": null,
            "justify_content": null,
            "justify_items": null,
            "left": null,
            "margin": null,
            "max_height": null,
            "max_width": null,
            "min_height": null,
            "min_width": null,
            "object_fit": null,
            "object_position": null,
            "order": null,
            "overflow": null,
            "overflow_x": null,
            "overflow_y": null,
            "padding": null,
            "right": null,
            "top": null,
            "visibility": null,
            "width": null
          }
        },
        "e69a9b01b0174d499418b480bc427556": {
          "model_module": "@jupyter-widgets/controls",
          "model_name": "DescriptionStyleModel",
          "model_module_version": "1.5.0",
          "state": {
            "_model_module": "@jupyter-widgets/controls",
            "_model_module_version": "1.5.0",
            "_model_name": "DescriptionStyleModel",
            "_view_count": null,
            "_view_module": "@jupyter-widgets/base",
            "_view_module_version": "1.2.0",
            "_view_name": "StyleView",
            "description_width": ""
          }
        }
      }
    }
  },
  "cells": [
    {
      "cell_type": "markdown",
      "metadata": {
        "id": "view-in-github",
        "colab_type": "text"
      },
      "source": [
        "<a href=\"https://colab.research.google.com/github/bronte-baer/Folder-Structure-Conventions/blob/master/code/inference/BART_pt_quac_inference.ipynb\" target=\"_parent\"><img src=\"https://colab.research.google.com/assets/colab-badge.svg\" alt=\"Open In Colab\"/></a>"
      ]
    },
    {
      "cell_type": "markdown",
      "source": [
        "# Inference: BART trained on SQuAD for QuAC"
      ],
      "metadata": {
        "id": "uf2wtnCnnfdL"
      }
    },
    {
      "cell_type": "code",
      "source": [
        "import os\n",
        "import re\n",
        "import numpy as np\n",
        "import pandas as pd\n",
        "import json\n",
        "\n",
        "from matplotlib import pyplot as plt\n",
        "from pprint import pprint\n",
        "\n",
        "from google.colab import data_table\n",
        "data_table.enable_dataframe_formatter()"
      ],
      "metadata": {
        "id": "qjoHGIrASgxW"
      },
      "execution_count": null,
      "outputs": []
    },
    {
      "cell_type": "code",
      "source": [
        "# This cell will authenticate you and mount your Drive in the Colab.\n",
        "from google.colab import drive\n",
        "drive.mount('/content/drive')"
      ],
      "metadata": {
        "colab": {
          "base_uri": "https://localhost:8080/"
        },
        "id": "YMoNQ8omSgz1",
        "outputId": "b55f0797-a81e-403b-8df5-0691e93538ca"
      },
      "execution_count": null,
      "outputs": [
        {
          "output_type": "stream",
          "name": "stdout",
          "text": [
            "Mounted at /content/drive\n"
          ]
        }
      ]
    },
    {
      "cell_type": "markdown",
      "source": [
        "### Preprocess QuAC data\n",
        "\n",
        "DO NOT RUN SECTION\n",
        "\n",
        "(will not need to run this section again since the csv files for train and validation pairs will already be created)"
      ],
      "metadata": {
        "id": "GBt5UqlWSiBM"
      }
    },
    {
      "cell_type": "code",
      "source": [
        "# Some important file locations and constants\n",
        "\n",
        "dataset_root = \"/content/drive/MyDrive/w266 NLP Final Project/Data/\"\n",
        "dataset_name = \"quac\"\n",
        "dataset_folder = f'{dataset_root}{dataset_name}/'\n",
        "training_file = dataset_folder + 'bart_train_pairs.csv'\n",
        "validation_file = dataset_folder + 'bart_valid_pairs.csv'\n",
        "training_file_source = f\"{dataset_folder}{dataset_name}_train.squad.json\"\n",
        "validation_file_source = f\"{dataset_folder}{dataset_name}_val.squad.json\""
      ],
      "metadata": {
        "id": "83a5rxHjSg2c"
      },
      "execution_count": null,
      "outputs": []
    },
    {
      "cell_type": "code",
      "source": [
        "train_quac = pd.read_json(training_file_source)\n",
        "train_quac = train_quac['data']"
      ],
      "metadata": {
        "id": "qsEAspVqSg5T"
      },
      "execution_count": null,
      "outputs": []
    },
    {
      "cell_type": "code",
      "source": [
        "training_context = [sample['paragraphs'][0]['context'].rstrip(\" CANNOTANSWER\") for sample in train_quac]"
      ],
      "metadata": {
        "id": "PAoav3o0Sg8t"
      },
      "execution_count": null,
      "outputs": []
    },
    {
      "cell_type": "code",
      "source": [
        "# For some reason I can't get this to work as single list comprehension.\n",
        "# Note the special handling where there is no answer, we will remove those rows later\n",
        "\n",
        "training_answers = [sample['paragraphs'][0]['qas'][0]['answers'] if sample else sample for sample in train_quac]\n",
        "training_answers = [sample[0]['text'] if sample else sample for sample in training_answers]"
      ],
      "metadata": {
        "id": "cqLOlmhYSg_T"
      },
      "execution_count": null,
      "outputs": []
    },
    {
      "cell_type": "code",
      "source": [
        "training_questions = [sample['paragraphs'][0]['qas'][0]['question'] for sample in train_quac]"
      ],
      "metadata": {
        "id": "5-hlJ5EmShCK"
      },
      "execution_count": null,
      "outputs": []
    },
    {
      "cell_type": "code",
      "source": [
        "# Create our validation version....\n",
        "validation_quac = pd.read_json(validation_file_source)\n",
        "validation_quac = validation_quac['data']\n",
        "validation_context = [sample['paragraphs'][0]['context'].rstrip(\" CANNOTANSWER\") for sample in validation_quac]\n",
        "validation_answers = [sample['paragraphs'][0]['qas'][0]['answers'] if sample else sample for sample in validation_quac]\n",
        "validation_answers = [sample[0]['text'] if sample else sample for sample in validation_answers]\n",
        "validation_questions = [sample['paragraphs'][0]['qas'][0]['question'] for sample in validation_quac]"
      ],
      "metadata": {
        "id": "CfI4_xpPShEx"
      },
      "execution_count": null,
      "outputs": []
    },
    {
      "cell_type": "code",
      "source": [
        "training_triples = [(answer, context, question) for answer, context, question in zip (training_answers, training_context, training_questions) if answer]\n",
        "validation_triples = [(answer, context, question) for answer, context, question in zip (validation_answers, validation_context, validation_questions) if answer]"
      ],
      "metadata": {
        "id": "cNWd-ufjShHY"
      },
      "execution_count": null,
      "outputs": []
    },
    {
      "cell_type": "code",
      "source": [
        "training_orig = [f\"{answer} </s> {context}\" for answer, context, _ in training_triples]\n",
        "training_target = [question for _, _, question in training_triples]\n",
        "validation_orig = [f\"{answer} </s> {context}\" for answer, context, _ in validation_triples]\n",
        "validation_target = [question for _, _, question in validation_triples]"
      ],
      "metadata": {
        "id": "cvILUG5DTkjM"
      },
      "execution_count": null,
      "outputs": []
    },
    {
      "cell_type": "code",
      "source": [
        "training_df = pd.DataFrame()\n",
        "training_df['orig'] = training_orig\n",
        "training_df['target'] = training_target\n",
        "training_df"
      ],
      "metadata": {
        "id": "CMk7RBcxUJk3"
      },
      "execution_count": null,
      "outputs": []
    },
    {
      "cell_type": "code",
      "source": [
        "validation_df = pd.DataFrame()\n",
        "validation_df['orig'] = validation_orig\n",
        "validation_df['target'] = validation_target\n",
        "validation_df"
      ],
      "metadata": {
        "id": "_cTERfNcURU9"
      },
      "execution_count": null,
      "outputs": []
    },
    {
      "cell_type": "code",
      "source": [
        "# Save splits to separate csv files, to load only part at a time later\n",
        "training_df.to_csv(training_file)\n",
        "validation_df.to_csv(validation_file)"
      ],
      "metadata": {
        "id": "4Gg85DTJURXR"
      },
      "execution_count": null,
      "outputs": []
    },
    {
      "cell_type": "code",
      "source": [],
      "metadata": {
        "id": "wqEzY_75ShPc"
      },
      "execution_count": null,
      "outputs": []
    },
    {
      "cell_type": "markdown",
      "source": [
        "## Try inference with QuAC"
      ],
      "metadata": {
        "id": "EZ-TQ6sYVPBZ"
      }
    },
    {
      "cell_type": "code",
      "execution_count": null,
      "metadata": {
        "id": "e0o1sjXinduc"
      },
      "outputs": [],
      "source": [
        "# Set these constants for each model and validation dataset combination\n",
        "\n",
        "model_name = \"bart_base_pt.squad\"\n",
        "validation_dataset_name = \"quac\"\n",
        "\n",
        "save_predictions = True\n",
        "save_mode = 'a' # w for write, a for append\n",
        "\n",
        "max_length = 512 # 1024 for long model and 512 otherwise\n",
        "batch_size = 150 # 150 is the norm, but dial back when needed\n",
        "\n",
        "start_sample = None  # If None, then 0 will be used\n",
        "end_sample = None # If None, then the end of the set will be used"
      ]
    },
    {
      "cell_type": "markdown",
      "source": [
        "### Generate predictions"
      ],
      "metadata": {
        "id": "u3B8iwypoFNU"
      }
    },
    {
      "cell_type": "code",
      "source": [
        "!pip install -q transformers"
      ],
      "metadata": {
        "id": "X84fF8rcne0C",
        "colab": {
          "base_uri": "https://localhost:8080/"
        },
        "outputId": "33672682-bf53-45f2-e53a-0f7fbbabdb7b"
      },
      "execution_count": null,
      "outputs": [
        {
          "output_type": "stream",
          "name": "stdout",
          "text": [
            "\u001b[K     |████████████████████████████████| 5.5 MB 4.1 MB/s \n",
            "\u001b[K     |████████████████████████████████| 163 kB 95.4 MB/s \n",
            "\u001b[K     |████████████████████████████████| 7.6 MB 52.9 MB/s \n",
            "\u001b[?25h"
          ]
        }
      ]
    },
    {
      "cell_type": "code",
      "source": [
        "!pip install -q sentencepiece"
      ],
      "metadata": {
        "id": "auSp_rm7ne2n",
        "colab": {
          "base_uri": "https://localhost:8080/"
        },
        "outputId": "c11ad24b-d0b9-4bc8-944a-ad774b569e93"
      },
      "execution_count": null,
      "outputs": [
        {
          "output_type": "stream",
          "name": "stdout",
          "text": [
            "\u001b[?25l\r\u001b[K     |▎                               | 10 kB 30.2 MB/s eta 0:00:01\r\u001b[K     |▌                               | 20 kB 4.9 MB/s eta 0:00:01\r\u001b[K     |▊                               | 30 kB 7.1 MB/s eta 0:00:01\r\u001b[K     |█                               | 40 kB 3.3 MB/s eta 0:00:01\r\u001b[K     |█▎                              | 51 kB 3.4 MB/s eta 0:00:01\r\u001b[K     |█▌                              | 61 kB 4.1 MB/s eta 0:00:01\r\u001b[K     |█▉                              | 71 kB 4.3 MB/s eta 0:00:01\r\u001b[K     |██                              | 81 kB 4.5 MB/s eta 0:00:01\r\u001b[K     |██▎                             | 92 kB 5.1 MB/s eta 0:00:01\r\u001b[K     |██▋                             | 102 kB 4.0 MB/s eta 0:00:01\r\u001b[K     |██▉                             | 112 kB 4.0 MB/s eta 0:00:01\r\u001b[K     |███                             | 122 kB 4.0 MB/s eta 0:00:01\r\u001b[K     |███▍                            | 133 kB 4.0 MB/s eta 0:00:01\r\u001b[K     |███▋                            | 143 kB 4.0 MB/s eta 0:00:01\r\u001b[K     |███▉                            | 153 kB 4.0 MB/s eta 0:00:01\r\u001b[K     |████                            | 163 kB 4.0 MB/s eta 0:00:01\r\u001b[K     |████▍                           | 174 kB 4.0 MB/s eta 0:00:01\r\u001b[K     |████▋                           | 184 kB 4.0 MB/s eta 0:00:01\r\u001b[K     |████▉                           | 194 kB 4.0 MB/s eta 0:00:01\r\u001b[K     |█████▏                          | 204 kB 4.0 MB/s eta 0:00:01\r\u001b[K     |█████▍                          | 215 kB 4.0 MB/s eta 0:00:01\r\u001b[K     |█████▋                          | 225 kB 4.0 MB/s eta 0:00:01\r\u001b[K     |██████                          | 235 kB 4.0 MB/s eta 0:00:01\r\u001b[K     |██████▏                         | 245 kB 4.0 MB/s eta 0:00:01\r\u001b[K     |██████▍                         | 256 kB 4.0 MB/s eta 0:00:01\r\u001b[K     |██████▊                         | 266 kB 4.0 MB/s eta 0:00:01\r\u001b[K     |███████                         | 276 kB 4.0 MB/s eta 0:00:01\r\u001b[K     |███████▏                        | 286 kB 4.0 MB/s eta 0:00:01\r\u001b[K     |███████▍                        | 296 kB 4.0 MB/s eta 0:00:01\r\u001b[K     |███████▊                        | 307 kB 4.0 MB/s eta 0:00:01\r\u001b[K     |████████                        | 317 kB 4.0 MB/s eta 0:00:01\r\u001b[K     |████████▏                       | 327 kB 4.0 MB/s eta 0:00:01\r\u001b[K     |████████▌                       | 337 kB 4.0 MB/s eta 0:00:01\r\u001b[K     |████████▊                       | 348 kB 4.0 MB/s eta 0:00:01\r\u001b[K     |█████████                       | 358 kB 4.0 MB/s eta 0:00:01\r\u001b[K     |█████████▎                      | 368 kB 4.0 MB/s eta 0:00:01\r\u001b[K     |█████████▌                      | 378 kB 4.0 MB/s eta 0:00:01\r\u001b[K     |█████████▊                      | 389 kB 4.0 MB/s eta 0:00:01\r\u001b[K     |██████████                      | 399 kB 4.0 MB/s eta 0:00:01\r\u001b[K     |██████████▎                     | 409 kB 4.0 MB/s eta 0:00:01\r\u001b[K     |██████████▌                     | 419 kB 4.0 MB/s eta 0:00:01\r\u001b[K     |██████████▉                     | 430 kB 4.0 MB/s eta 0:00:01\r\u001b[K     |███████████                     | 440 kB 4.0 MB/s eta 0:00:01\r\u001b[K     |███████████▎                    | 450 kB 4.0 MB/s eta 0:00:01\r\u001b[K     |███████████▌                    | 460 kB 4.0 MB/s eta 0:00:01\r\u001b[K     |███████████▉                    | 471 kB 4.0 MB/s eta 0:00:01\r\u001b[K     |████████████                    | 481 kB 4.0 MB/s eta 0:00:01\r\u001b[K     |████████████▎                   | 491 kB 4.0 MB/s eta 0:00:01\r\u001b[K     |████████████▋                   | 501 kB 4.0 MB/s eta 0:00:01\r\u001b[K     |████████████▉                   | 512 kB 4.0 MB/s eta 0:00:01\r\u001b[K     |█████████████                   | 522 kB 4.0 MB/s eta 0:00:01\r\u001b[K     |█████████████▍                  | 532 kB 4.0 MB/s eta 0:00:01\r\u001b[K     |█████████████▋                  | 542 kB 4.0 MB/s eta 0:00:01\r\u001b[K     |█████████████▉                  | 552 kB 4.0 MB/s eta 0:00:01\r\u001b[K     |██████████████▏                 | 563 kB 4.0 MB/s eta 0:00:01\r\u001b[K     |██████████████▍                 | 573 kB 4.0 MB/s eta 0:00:01\r\u001b[K     |██████████████▋                 | 583 kB 4.0 MB/s eta 0:00:01\r\u001b[K     |██████████████▉                 | 593 kB 4.0 MB/s eta 0:00:01\r\u001b[K     |███████████████▏                | 604 kB 4.0 MB/s eta 0:00:01\r\u001b[K     |███████████████▍                | 614 kB 4.0 MB/s eta 0:00:01\r\u001b[K     |███████████████▋                | 624 kB 4.0 MB/s eta 0:00:01\r\u001b[K     |████████████████                | 634 kB 4.0 MB/s eta 0:00:01\r\u001b[K     |████████████████▏               | 645 kB 4.0 MB/s eta 0:00:01\r\u001b[K     |████████████████▍               | 655 kB 4.0 MB/s eta 0:00:01\r\u001b[K     |████████████████▊               | 665 kB 4.0 MB/s eta 0:00:01\r\u001b[K     |█████████████████               | 675 kB 4.0 MB/s eta 0:00:01\r\u001b[K     |█████████████████▏              | 686 kB 4.0 MB/s eta 0:00:01\r\u001b[K     |█████████████████▌              | 696 kB 4.0 MB/s eta 0:00:01\r\u001b[K     |█████████████████▊              | 706 kB 4.0 MB/s eta 0:00:01\r\u001b[K     |██████████████████              | 716 kB 4.0 MB/s eta 0:00:01\r\u001b[K     |██████████████████▎             | 727 kB 4.0 MB/s eta 0:00:01\r\u001b[K     |██████████████████▌             | 737 kB 4.0 MB/s eta 0:00:01\r\u001b[K     |██████████████████▊             | 747 kB 4.0 MB/s eta 0:00:01\r\u001b[K     |███████████████████             | 757 kB 4.0 MB/s eta 0:00:01\r\u001b[K     |███████████████████▎            | 768 kB 4.0 MB/s eta 0:00:01\r\u001b[K     |███████████████████▌            | 778 kB 4.0 MB/s eta 0:00:01\r\u001b[K     |███████████████████▊            | 788 kB 4.0 MB/s eta 0:00:01\r\u001b[K     |████████████████████            | 798 kB 4.0 MB/s eta 0:00:01\r\u001b[K     |████████████████████▎           | 808 kB 4.0 MB/s eta 0:00:01\r\u001b[K     |████████████████████▌           | 819 kB 4.0 MB/s eta 0:00:01\r\u001b[K     |████████████████████▉           | 829 kB 4.0 MB/s eta 0:00:01\r\u001b[K     |█████████████████████           | 839 kB 4.0 MB/s eta 0:00:01\r\u001b[K     |█████████████████████▎          | 849 kB 4.0 MB/s eta 0:00:01\r\u001b[K     |█████████████████████▋          | 860 kB 4.0 MB/s eta 0:00:01\r\u001b[K     |█████████████████████▉          | 870 kB 4.0 MB/s eta 0:00:01\r\u001b[K     |██████████████████████          | 880 kB 4.0 MB/s eta 0:00:01\r\u001b[K     |██████████████████████▎         | 890 kB 4.0 MB/s eta 0:00:01\r\u001b[K     |██████████████████████▋         | 901 kB 4.0 MB/s eta 0:00:01\r\u001b[K     |██████████████████████▉         | 911 kB 4.0 MB/s eta 0:00:01\r\u001b[K     |███████████████████████         | 921 kB 4.0 MB/s eta 0:00:01\r\u001b[K     |███████████████████████▍        | 931 kB 4.0 MB/s eta 0:00:01\r\u001b[K     |███████████████████████▋        | 942 kB 4.0 MB/s eta 0:00:01\r\u001b[K     |███████████████████████▉        | 952 kB 4.0 MB/s eta 0:00:01\r\u001b[K     |████████████████████████▏       | 962 kB 4.0 MB/s eta 0:00:01\r\u001b[K     |████████████████████████▍       | 972 kB 4.0 MB/s eta 0:00:01\r\u001b[K     |████████████████████████▋       | 983 kB 4.0 MB/s eta 0:00:01\r\u001b[K     |█████████████████████████       | 993 kB 4.0 MB/s eta 0:00:01\r\u001b[K     |█████████████████████████▏      | 1.0 MB 4.0 MB/s eta 0:00:01\r\u001b[K     |█████████████████████████▍      | 1.0 MB 4.0 MB/s eta 0:00:01\r\u001b[K     |█████████████████████████▊      | 1.0 MB 4.0 MB/s eta 0:00:01\r\u001b[K     |██████████████████████████      | 1.0 MB 4.0 MB/s eta 0:00:01\r\u001b[K     |██████████████████████████▏     | 1.0 MB 4.0 MB/s eta 0:00:01\r\u001b[K     |██████████████████████████▍     | 1.1 MB 4.0 MB/s eta 0:00:01\r\u001b[K     |██████████████████████████▊     | 1.1 MB 4.0 MB/s eta 0:00:01\r\u001b[K     |███████████████████████████     | 1.1 MB 4.0 MB/s eta 0:00:01\r\u001b[K     |███████████████████████████▏    | 1.1 MB 4.0 MB/s eta 0:00:01\r\u001b[K     |███████████████████████████▌    | 1.1 MB 4.0 MB/s eta 0:00:01\r\u001b[K     |███████████████████████████▊    | 1.1 MB 4.0 MB/s eta 0:00:01\r\u001b[K     |████████████████████████████    | 1.1 MB 4.0 MB/s eta 0:00:01\r\u001b[K     |████████████████████████████▎   | 1.1 MB 4.0 MB/s eta 0:00:01\r\u001b[K     |████████████████████████████▌   | 1.1 MB 4.0 MB/s eta 0:00:01\r\u001b[K     |████████████████████████████▊   | 1.1 MB 4.0 MB/s eta 0:00:01\r\u001b[K     |█████████████████████████████   | 1.2 MB 4.0 MB/s eta 0:00:01\r\u001b[K     |█████████████████████████████▎  | 1.2 MB 4.0 MB/s eta 0:00:01\r\u001b[K     |█████████████████████████████▌  | 1.2 MB 4.0 MB/s eta 0:00:01\r\u001b[K     |█████████████████████████████▊  | 1.2 MB 4.0 MB/s eta 0:00:01\r\u001b[K     |██████████████████████████████  | 1.2 MB 4.0 MB/s eta 0:00:01\r\u001b[K     |██████████████████████████████▎ | 1.2 MB 4.0 MB/s eta 0:00:01\r\u001b[K     |██████████████████████████████▌ | 1.2 MB 4.0 MB/s eta 0:00:01\r\u001b[K     |██████████████████████████████▉ | 1.2 MB 4.0 MB/s eta 0:00:01\r\u001b[K     |███████████████████████████████ | 1.2 MB 4.0 MB/s eta 0:00:01\r\u001b[K     |███████████████████████████████▎| 1.2 MB 4.0 MB/s eta 0:00:01\r\u001b[K     |███████████████████████████████▋| 1.3 MB 4.0 MB/s eta 0:00:01\r\u001b[K     |███████████████████████████████▉| 1.3 MB 4.0 MB/s eta 0:00:01\r\u001b[K     |████████████████████████████████| 1.3 MB 4.0 MB/s \n",
            "\u001b[?25h"
          ]
        }
      ]
    },
    {
      "cell_type": "code",
      "source": [
        "import torch\n",
        "from transformers import BartTokenizer, BartForConditionalGeneration\n",
        "\n",
        "import warnings\n",
        "warnings.simplefilter(action='ignore', category=FutureWarning)"
      ],
      "metadata": {
        "id": "7tcoW_ECne7k"
      },
      "execution_count": null,
      "outputs": []
    },
    {
      "cell_type": "code",
      "source": [
        "# Some important file locations and constants\n",
        "\n",
        "project_root = \"/content/drive/MyDrive/w266 NLP Final Project/\"\n",
        "dataset_root = project_root + \"Data/\"\n",
        "model_root = project_root + \"Models/\"\n",
        "prediction_folder = project_root + \"Predictions/\"\n",
        "\n",
        "tokenizer = \"facebook/bart-base\"\n",
        "\n",
        "model_folder = model_root + model_name\n",
        "\n",
        "validation_data_file = f\"{dataset_root}quac/bart_valid_pairs.csv\"\n",
        "if validation_dataset_name != \"quac\":\n",
        "  validation_data_file = f\"{dataset_root}{validation_dataset_name}/bart_valid_pairs.csv\"\n",
        "\n",
        "prediction_file = f\"{prediction_folder}predictions.{model_name}.{validation_dataset_name}.csv\""
      ],
      "metadata": {
        "id": "CCaYAh9ine98"
      },
      "execution_count": null,
      "outputs": []
    },
    {
      "cell_type": "code",
      "source": [
        "validation_df = pd.read_csv(validation_data_file)\n",
        "validation_df[['orig', 'target']][:2]"
      ],
      "metadata": {
        "colab": {
          "base_uri": "https://localhost:8080/",
          "height": 528
        },
        "id": "45-VkYB5nfAR",
        "outputId": "02f9f0ca-552d-4011-b7ca-6769d22e8234"
      },
      "execution_count": null,
      "outputs": [
        {
          "output_type": "execute_result",
          "data": {
            "text/plain": [
              "                                                orig  \\\n",
              "0  In May 1983, she married Nikos Karvelas, a com...   \n",
              "1  in November she gave birth to her daughter Sof...   \n",
              "\n",
              "                        target  \n",
              "0       what happened in 1983?  \n",
              "1  did they have any children?  "
            ],
            "text/html": [
              "\n",
              "  <div id=\"df-7605bdc3-70b3-41e4-ab04-4f8cc0a85ae2\">\n",
              "    <div class=\"colab-df-container\">\n",
              "      <div>\n",
              "<style scoped>\n",
              "    .dataframe tbody tr th:only-of-type {\n",
              "        vertical-align: middle;\n",
              "    }\n",
              "\n",
              "    .dataframe tbody tr th {\n",
              "        vertical-align: top;\n",
              "    }\n",
              "\n",
              "    .dataframe thead th {\n",
              "        text-align: right;\n",
              "    }\n",
              "</style>\n",
              "<table border=\"1\" class=\"dataframe\">\n",
              "  <thead>\n",
              "    <tr style=\"text-align: right;\">\n",
              "      <th></th>\n",
              "      <th>orig</th>\n",
              "      <th>target</th>\n",
              "    </tr>\n",
              "  </thead>\n",
              "  <tbody>\n",
              "    <tr>\n",
              "      <th>0</th>\n",
              "      <td>In May 1983, she married Nikos Karvelas, a com...</td>\n",
              "      <td>what happened in 1983?</td>\n",
              "    </tr>\n",
              "    <tr>\n",
              "      <th>1</th>\n",
              "      <td>in November she gave birth to her daughter Sof...</td>\n",
              "      <td>did they have any children?</td>\n",
              "    </tr>\n",
              "  </tbody>\n",
              "</table>\n",
              "</div>\n",
              "      <button class=\"colab-df-convert\" onclick=\"convertToInteractive('df-7605bdc3-70b3-41e4-ab04-4f8cc0a85ae2')\"\n",
              "              title=\"Convert this dataframe to an interactive table.\"\n",
              "              style=\"display:none;\">\n",
              "        \n",
              "  <svg xmlns=\"http://www.w3.org/2000/svg\" height=\"24px\"viewBox=\"0 0 24 24\"\n",
              "       width=\"24px\">\n",
              "    <path d=\"M0 0h24v24H0V0z\" fill=\"none\"/>\n",
              "    <path d=\"M18.56 5.44l.94 2.06.94-2.06 2.06-.94-2.06-.94-.94-2.06-.94 2.06-2.06.94zm-11 1L8.5 8.5l.94-2.06 2.06-.94-2.06-.94L8.5 2.5l-.94 2.06-2.06.94zm10 10l.94 2.06.94-2.06 2.06-.94-2.06-.94-.94-2.06-.94 2.06-2.06.94z\"/><path d=\"M17.41 7.96l-1.37-1.37c-.4-.4-.92-.59-1.43-.59-.52 0-1.04.2-1.43.59L10.3 9.45l-7.72 7.72c-.78.78-.78 2.05 0 2.83L4 21.41c.39.39.9.59 1.41.59.51 0 1.02-.2 1.41-.59l7.78-7.78 2.81-2.81c.8-.78.8-2.07 0-2.86zM5.41 20L4 18.59l7.72-7.72 1.47 1.35L5.41 20z\"/>\n",
              "  </svg>\n",
              "      </button>\n",
              "      \n",
              "  <style>\n",
              "    .colab-df-container {\n",
              "      display:flex;\n",
              "      flex-wrap:wrap;\n",
              "      gap: 12px;\n",
              "    }\n",
              "\n",
              "    .colab-df-convert {\n",
              "      background-color: #E8F0FE;\n",
              "      border: none;\n",
              "      border-radius: 50%;\n",
              "      cursor: pointer;\n",
              "      display: none;\n",
              "      fill: #1967D2;\n",
              "      height: 32px;\n",
              "      padding: 0 0 0 0;\n",
              "      width: 32px;\n",
              "    }\n",
              "\n",
              "    .colab-df-convert:hover {\n",
              "      background-color: #E2EBFA;\n",
              "      box-shadow: 0px 1px 2px rgba(60, 64, 67, 0.3), 0px 1px 3px 1px rgba(60, 64, 67, 0.15);\n",
              "      fill: #174EA6;\n",
              "    }\n",
              "\n",
              "    [theme=dark] .colab-df-convert {\n",
              "      background-color: #3B4455;\n",
              "      fill: #D2E3FC;\n",
              "    }\n",
              "\n",
              "    [theme=dark] .colab-df-convert:hover {\n",
              "      background-color: #434B5C;\n",
              "      box-shadow: 0px 1px 3px 1px rgba(0, 0, 0, 0.15);\n",
              "      filter: drop-shadow(0px 1px 2px rgba(0, 0, 0, 0.3));\n",
              "      fill: #FFFFFF;\n",
              "    }\n",
              "  </style>\n",
              "\n",
              "      <script>\n",
              "        const buttonEl =\n",
              "          document.querySelector('#df-7605bdc3-70b3-41e4-ab04-4f8cc0a85ae2 button.colab-df-convert');\n",
              "        buttonEl.style.display =\n",
              "          google.colab.kernel.accessAllowed ? 'block' : 'none';\n",
              "\n",
              "        async function convertToInteractive(key) {\n",
              "          const element = document.querySelector('#df-7605bdc3-70b3-41e4-ab04-4f8cc0a85ae2');\n",
              "          const dataTable =\n",
              "            await google.colab.kernel.invokeFunction('convertToInteractive',\n",
              "                                                     [key], {});\n",
              "          if (!dataTable) return;\n",
              "\n",
              "          const docLinkHtml = 'Like what you see? Visit the ' +\n",
              "            '<a target=\"_blank\" href=https://colab.research.google.com/notebooks/data_table.ipynb>data table notebook</a>'\n",
              "            + ' to learn more about interactive tables.';\n",
              "          element.innerHTML = '';\n",
              "          dataTable['output_type'] = 'display_data';\n",
              "          await google.colab.output.renderOutput(dataTable, element);\n",
              "          const docLink = document.createElement('div');\n",
              "          docLink.innerHTML = docLinkHtml;\n",
              "          element.appendChild(docLink);\n",
              "        }\n",
              "      </script>\n",
              "    </div>\n",
              "  </div>\n",
              "  "
            ],
            "application/vnd.google.colaboratory.module+javascript": "\n      import \"https://ssl.gstatic.com/colaboratory/data_table/a8bd4d5e58f96183/data_table.js\";\n\n      window.createDataTable({\n        data: [[{\n            'v': 0,\n            'f': \"0\",\n        },\n\"In May 1983, she married Nikos Karvelas, a composer, <\\/s> In May 1983, she married Nikos Karvelas, a composer, with whom she collaborated in 1975 and in November she gave birth to her daughter Sofia. After their marriage, she started a close collaboration with Karvelas. Since 1975, all her releases have become gold or platinum and have included songs by Karvelas. In 1986, she participated at the Cypriot National Final for Eurovision Song Contest with the song Thelo Na Gino Star (\\\"I Want To Be A Star\\\"), taking second place. This song is still unreleased up to date. In 1984, Vissi left her record company EMI Greece and signed with CBS Records Greece, which later became Sony Music Greece, a collaboration that lasted until 2013. In March 1984, she released Na 'Hes Kardia (\\\"If You Had a Heart\\\"). The album was certified gold. The following year her seventh album Kati Simveni (\\\"Something Is Happening\\\") was released which included one of her most famous songs, titled \\\"Dodeka\\\" [\\\"Twelve (O'Clock)\\\"] and reached gold status selling 80.000 units. In 1986 I Epomeni Kinisi (\\\"The Next Move\\\") was released. The album included the hit Pragmata (\\\"Things\\\") and went platinum, becoming the best selling record of the year. In February 1988 she released her ninth album Tora (\\\"Now\\\") and in December the album Empnefsi! (\\\"Inspiration!\\\") which went gold. In 1988, she made her debut as a radio producer on ANT1 Radio. Her radio program was titled after one of her songs Ta Koritsia Einai Atakta (\\\"Girls Are Naughty\\\") and was aired every weekend. In the same year, she participated with the song Klaio (\\\"I'm Crying\\\") at the Greek National Final for Eurovision Song Contest, finishing third. In 1989, she released the highly successful studio album Fotia (Fire), being one of the first albums to feature western sounds. The lead single Pseftika (\\\"Fake\\\") became a big hit and the album reached platinum status, selling 180.000 copies and becoming the second best selling record of 1990. She performed at \\\"Diogenis Palace\\\" in that same year, Athens's biggest nightclub/music hall at the time.\",\n\"what happened in 1983?\"],\n [{\n            'v': 1,\n            'f': \"1\",\n        },\n\"in November she gave birth to her daughter Sofia. <\\/s> In May 1983, she married Nikos Karvelas, a composer, with whom she collaborated in 1975 and in November she gave birth to her daughter Sofia. After their marriage, she started a close collaboration with Karvelas. Since 1975, all her releases have become gold or platinum and have included songs by Karvelas. In 1986, she participated at the Cypriot National Final for Eurovision Song Contest with the song Thelo Na Gino Star (\\\"I Want To Be A Star\\\"), taking second place. This song is still unreleased up to date. In 1984, Vissi left her record company EMI Greece and signed with CBS Records Greece, which later became Sony Music Greece, a collaboration that lasted until 2013. In March 1984, she released Na 'Hes Kardia (\\\"If You Had a Heart\\\"). The album was certified gold. The following year her seventh album Kati Simveni (\\\"Something Is Happening\\\") was released which included one of her most famous songs, titled \\\"Dodeka\\\" [\\\"Twelve (O'Clock)\\\"] and reached gold status selling 80.000 units. In 1986 I Epomeni Kinisi (\\\"The Next Move\\\") was released. The album included the hit Pragmata (\\\"Things\\\") and went platinum, becoming the best selling record of the year. In February 1988 she released her ninth album Tora (\\\"Now\\\") and in December the album Empnefsi! (\\\"Inspiration!\\\") which went gold. In 1988, she made her debut as a radio producer on ANT1 Radio. Her radio program was titled after one of her songs Ta Koritsia Einai Atakta (\\\"Girls Are Naughty\\\") and was aired every weekend. In the same year, she participated with the song Klaio (\\\"I'm Crying\\\") at the Greek National Final for Eurovision Song Contest, finishing third. In 1989, she released the highly successful studio album Fotia (Fire), being one of the first albums to feature western sounds. The lead single Pseftika (\\\"Fake\\\") became a big hit and the album reached platinum status, selling 180.000 copies and becoming the second best selling record of 1990. She performed at \\\"Diogenis Palace\\\" in that same year, Athens's biggest nightclub/music hall at the time.\",\n\"did they have any children?\"]],\n        columns: [[\"number\", \"index\"], [\"string\", \"orig\"], [\"string\", \"target\"]],\n        columnOptions: [{\"width\": \"1px\", \"className\": \"index_column\"}],\n        rowsPerPage: 25,\n        helpUrl: \"https://colab.research.google.com/notebooks/data_table.ipynb\",\n        suppressOutputScrolling: true,\n        minimumWidth: undefined,\n      });\n    "
          },
          "metadata": {},
          "execution_count": 19
        }
      ]
    },
    {
      "cell_type": "code",
      "source": [
        "validation_df.shape[0]"
      ],
      "metadata": {
        "colab": {
          "base_uri": "https://localhost:8080/"
        },
        "id": "DVuJabebnfCo",
        "outputId": "55b745d0-ac49-4862-dea1-9563bf4b4ff0"
      },
      "execution_count": null,
      "outputs": [
        {
          "output_type": "execute_result",
          "data": {
            "text/plain": [
              "5868"
            ]
          },
          "metadata": {},
          "execution_count": 9
        }
      ]
    },
    {
      "cell_type": "code",
      "source": [
        "# Download tokenizer and model, associate the model with the GPU\n",
        "\n",
        "bart_tokenizer = BartTokenizer.from_pretrained(tokenizer)\n",
        "bart_model = BartForConditionalGeneration.from_pretrained(model_folder)\n",
        "# bart_model.to(torch.device('cuda:0'))\n",
        "# pass"
      ],
      "metadata": {
        "id": "HUgtBn0WnfFf",
        "colab": {
          "base_uri": "https://localhost:8080/",
          "height": 113,
          "referenced_widgets": [
            "c1923f23e6104e3f830469dc272d4a3a",
            "f0c333b5c744411d9937f0d96d881bd3",
            "551b46fba7604c87a18f99321ead8f9c",
            "59ef6288063549818183eef7e5d92518",
            "d6212fd34ce04340933a15ffc017d228",
            "99a1c655323c47f183fd136da36170e1",
            "84bb9087f4da4cf0a7e67fb54ecc45c2",
            "f797dc5be06e47428526d6bde2690859",
            "676f15a849574139be540ec3f7ad82a6",
            "c413f75d43f7410eaf7b202891ed3322",
            "73cffa15463f4d57be4b736543cc1b0b",
            "fb05cc74028f43ffbe2dfbc6c9d798cb",
            "104467c5be964c42913e143ba28046b0",
            "8f80687ae87441d3ac04bd9285137c05",
            "481257b5dc6a4dc68b7139a1e4adc167",
            "ad200ae6d0d741a785baddeaf7c1e33a",
            "38bfc0e852df4b279d7c322f54082bb9",
            "74c1a6d96e204706896d9fb2041e7436",
            "0e26a76ab580441b9c1ced782da7b580",
            "c09f7f2107674297b8b776a834bdcc64",
            "0a9717b92f5942aa9996d3481593b1ff",
            "55e286335e134539b1cac08227e5bb2a",
            "73ab12fd3002487eaabe3deeefe6dbea",
            "012f3b6164bf4d57911eeea953a10d9f",
            "d2686b46a74a41879191fc4f8e477ccc",
            "a901ee94e19c4698aa213fdcb2092cda",
            "be1a67ef30214da49d497f561bb263f2",
            "288e07d4c6b94839b9dbb1ae0da22fc6",
            "6531a24c279541ad96afe5aff70f3161",
            "f27d53f755b04784b8f00f9c9584db59",
            "b399fe56b2c5466c9cf065f9f4876247",
            "4ec33b686b3447b6926a14c2e73503ef",
            "e69a9b01b0174d499418b480bc427556"
          ]
        },
        "outputId": "82973741-e8c6-4593-d646-a3d017f8a2dc"
      },
      "execution_count": null,
      "outputs": [
        {
          "output_type": "display_data",
          "data": {
            "text/plain": [
              "Downloading:   0%|          | 0.00/899k [00:00<?, ?B/s]"
            ],
            "application/vnd.jupyter.widget-view+json": {
              "version_major": 2,
              "version_minor": 0,
              "model_id": "c1923f23e6104e3f830469dc272d4a3a"
            }
          },
          "metadata": {}
        },
        {
          "output_type": "display_data",
          "data": {
            "text/plain": [
              "Downloading:   0%|          | 0.00/456k [00:00<?, ?B/s]"
            ],
            "application/vnd.jupyter.widget-view+json": {
              "version_major": 2,
              "version_minor": 0,
              "model_id": "fb05cc74028f43ffbe2dfbc6c9d798cb"
            }
          },
          "metadata": {}
        },
        {
          "output_type": "display_data",
          "data": {
            "text/plain": [
              "Downloading:   0%|          | 0.00/1.72k [00:00<?, ?B/s]"
            ],
            "application/vnd.jupyter.widget-view+json": {
              "version_major": 2,
              "version_minor": 0,
              "model_id": "73ab12fd3002487eaabe3deeefe6dbea"
            }
          },
          "metadata": {}
        }
      ]
    },
    {
      "cell_type": "code",
      "source": [
        "predictions = []\n",
        "\n",
        "if start_sample is None:\n",
        "  start_sample = 0\n",
        "\n",
        "if end_sample is None:\n",
        "  end_sample = validation_df.shape[0]\n",
        "\n",
        "print(f\"Generating predictions from {start_sample} to {end_sample}:\")\n",
        "for start in range (start_sample, end_sample, batch_size):\n",
        "  to = min([end_sample, start + batch_size])\n",
        "  inputs = bart_tokenizer(validation_df['orig'][start:to].to_list(), return_tensors='pt', max_length=max_length, truncation=True, padding=True)\n",
        "  output_ids = bart_model.generate(inputs['input_ids'], max_length=max_length)\n",
        "  prediction_batch = bart_tokenizer.batch_decode(output_ids, skip_special_tokens=True)\n",
        "  predictions.extend(prediction_batch)\n",
        "  print (f\"{to} \", end=\"\")\n",
        "  if to%1000 == 0: print()\n",
        "print(\"Predictions generated.\")"
      ],
      "metadata": {
        "colab": {
          "base_uri": "https://localhost:8080/"
        },
        "id": "qaJ4uZfpajlm",
        "outputId": "1e6c8bf2-bb68-4609-c4e4-249b19117db8"
      },
      "execution_count": null,
      "outputs": [
        {
          "output_type": "stream",
          "name": "stdout",
          "text": [
            "Generating predictions from 0 to 5868:\n",
            "150 300 450 600 750 900 1050 1200 1350 1500 1650 1800 1950 2100 2250 2400 2550 2700 2850 3000 \n",
            "3150 3300 3450 3600 3750 3900 4050 4200 4350 4500 4650 4800 4950 5100 5250 5400 5550 5700 5850 5868 Predictions generated.\n"
          ]
        }
      ]
    },
    {
      "cell_type": "code",
      "source": [
        "# predictions = []\n",
        "# for input_text in validation_df['orig']:\n",
        "#   inputs = bart_tokenizer(input_text, return_tensors='pt')\n",
        "#   output_ids = bart_model.generate(inputs['input_ids'])\n",
        "#   prediction = \"\".join([bart_tokenizer.decode(out_ids, skip_special_tokens=True, \n",
        "#                                             clean_up_tokenization_spaces=False) for out_ids in output_ids])\n",
        "#   predictions.append(prediction)\n",
        "\n",
        "# validation_df['prediction'] = predictions"
      ],
      "metadata": {
        "id": "YMuGFUN9DjGr"
      },
      "execution_count": null,
      "outputs": []
    },
    {
      "cell_type": "code",
      "source": [
        "df=pd.DataFrame()\n",
        "df['context'] = [str.split('</s>')[1] for str in validation_df['orig'][start_sample:end_sample]]\n",
        "df['answer'] =  [str.split('</s>')[0] for str in validation_df['orig'][start_sample:end_sample]]\n",
        "# df['context'] = [str.split('context: ')[1] for str in validation_df['orig'][start_sample:end_sample]]\n",
        "# df['answer'] =  [str.split('context: ')[0][26: ] for str in validation_df['orig'][start_sample:end_sample]]\n",
        "df['target'] = validation_df['target']\n",
        "df['prediction'] = predictions"
      ],
      "metadata": {
        "id": "jtM1by8ZE1tz"
      },
      "execution_count": null,
      "outputs": []
    },
    {
      "cell_type": "code",
      "source": [
        "# Reorder columns\n",
        "df = df[['context', 'answer', 'target', 'prediction']]\n",
        "\n",
        "df[:2]"
      ],
      "metadata": {
        "id": "VJpVOcqunfMP",
        "colab": {
          "base_uri": "https://localhost:8080/",
          "height": 594
        },
        "outputId": "787e9155-fa08-40ff-955b-54484ccf2655"
      },
      "execution_count": null,
      "outputs": [
        {
          "output_type": "execute_result",
          "data": {
            "text/plain": [
              "                                             context  \\\n",
              "0   In May 1983, she married Nikos Karvelas, a co...   \n",
              "1   In May 1983, she married Nikos Karvelas, a co...   \n",
              "\n",
              "                                              answer  \\\n",
              "0  In May 1983, she married Nikos Karvelas, a com...   \n",
              "1  in November she gave birth to her daughter Sof...   \n",
              "\n",
              "                        target                              prediction  \n",
              "0       what happened in 1983?    What was the name of Nikos Karvelas?  \n",
              "1  did they have any children?  What was the name of Vissi's daughter?  "
            ],
            "text/html": [
              "\n",
              "  <div id=\"df-d21b8e6c-8e56-48be-8b3b-fc54854d9ccf\">\n",
              "    <div class=\"colab-df-container\">\n",
              "      <div>\n",
              "<style scoped>\n",
              "    .dataframe tbody tr th:only-of-type {\n",
              "        vertical-align: middle;\n",
              "    }\n",
              "\n",
              "    .dataframe tbody tr th {\n",
              "        vertical-align: top;\n",
              "    }\n",
              "\n",
              "    .dataframe thead th {\n",
              "        text-align: right;\n",
              "    }\n",
              "</style>\n",
              "<table border=\"1\" class=\"dataframe\">\n",
              "  <thead>\n",
              "    <tr style=\"text-align: right;\">\n",
              "      <th></th>\n",
              "      <th>context</th>\n",
              "      <th>answer</th>\n",
              "      <th>target</th>\n",
              "      <th>prediction</th>\n",
              "    </tr>\n",
              "  </thead>\n",
              "  <tbody>\n",
              "    <tr>\n",
              "      <th>0</th>\n",
              "      <td>In May 1983, she married Nikos Karvelas, a co...</td>\n",
              "      <td>In May 1983, she married Nikos Karvelas, a com...</td>\n",
              "      <td>what happened in 1983?</td>\n",
              "      <td>What was the name of Nikos Karvelas?</td>\n",
              "    </tr>\n",
              "    <tr>\n",
              "      <th>1</th>\n",
              "      <td>In May 1983, she married Nikos Karvelas, a co...</td>\n",
              "      <td>in November she gave birth to her daughter Sof...</td>\n",
              "      <td>did they have any children?</td>\n",
              "      <td>What was the name of Vissi's daughter?</td>\n",
              "    </tr>\n",
              "  </tbody>\n",
              "</table>\n",
              "</div>\n",
              "      <button class=\"colab-df-convert\" onclick=\"convertToInteractive('df-d21b8e6c-8e56-48be-8b3b-fc54854d9ccf')\"\n",
              "              title=\"Convert this dataframe to an interactive table.\"\n",
              "              style=\"display:none;\">\n",
              "        \n",
              "  <svg xmlns=\"http://www.w3.org/2000/svg\" height=\"24px\"viewBox=\"0 0 24 24\"\n",
              "       width=\"24px\">\n",
              "    <path d=\"M0 0h24v24H0V0z\" fill=\"none\"/>\n",
              "    <path d=\"M18.56 5.44l.94 2.06.94-2.06 2.06-.94-2.06-.94-.94-2.06-.94 2.06-2.06.94zm-11 1L8.5 8.5l.94-2.06 2.06-.94-2.06-.94L8.5 2.5l-.94 2.06-2.06.94zm10 10l.94 2.06.94-2.06 2.06-.94-2.06-.94-.94-2.06-.94 2.06-2.06.94z\"/><path d=\"M17.41 7.96l-1.37-1.37c-.4-.4-.92-.59-1.43-.59-.52 0-1.04.2-1.43.59L10.3 9.45l-7.72 7.72c-.78.78-.78 2.05 0 2.83L4 21.41c.39.39.9.59 1.41.59.51 0 1.02-.2 1.41-.59l7.78-7.78 2.81-2.81c.8-.78.8-2.07 0-2.86zM5.41 20L4 18.59l7.72-7.72 1.47 1.35L5.41 20z\"/>\n",
              "  </svg>\n",
              "      </button>\n",
              "      \n",
              "  <style>\n",
              "    .colab-df-container {\n",
              "      display:flex;\n",
              "      flex-wrap:wrap;\n",
              "      gap: 12px;\n",
              "    }\n",
              "\n",
              "    .colab-df-convert {\n",
              "      background-color: #E8F0FE;\n",
              "      border: none;\n",
              "      border-radius: 50%;\n",
              "      cursor: pointer;\n",
              "      display: none;\n",
              "      fill: #1967D2;\n",
              "      height: 32px;\n",
              "      padding: 0 0 0 0;\n",
              "      width: 32px;\n",
              "    }\n",
              "\n",
              "    .colab-df-convert:hover {\n",
              "      background-color: #E2EBFA;\n",
              "      box-shadow: 0px 1px 2px rgba(60, 64, 67, 0.3), 0px 1px 3px 1px rgba(60, 64, 67, 0.15);\n",
              "      fill: #174EA6;\n",
              "    }\n",
              "\n",
              "    [theme=dark] .colab-df-convert {\n",
              "      background-color: #3B4455;\n",
              "      fill: #D2E3FC;\n",
              "    }\n",
              "\n",
              "    [theme=dark] .colab-df-convert:hover {\n",
              "      background-color: #434B5C;\n",
              "      box-shadow: 0px 1px 3px 1px rgba(0, 0, 0, 0.15);\n",
              "      filter: drop-shadow(0px 1px 2px rgba(0, 0, 0, 0.3));\n",
              "      fill: #FFFFFF;\n",
              "    }\n",
              "  </style>\n",
              "\n",
              "      <script>\n",
              "        const buttonEl =\n",
              "          document.querySelector('#df-d21b8e6c-8e56-48be-8b3b-fc54854d9ccf button.colab-df-convert');\n",
              "        buttonEl.style.display =\n",
              "          google.colab.kernel.accessAllowed ? 'block' : 'none';\n",
              "\n",
              "        async function convertToInteractive(key) {\n",
              "          const element = document.querySelector('#df-d21b8e6c-8e56-48be-8b3b-fc54854d9ccf');\n",
              "          const dataTable =\n",
              "            await google.colab.kernel.invokeFunction('convertToInteractive',\n",
              "                                                     [key], {});\n",
              "          if (!dataTable) return;\n",
              "\n",
              "          const docLinkHtml = 'Like what you see? Visit the ' +\n",
              "            '<a target=\"_blank\" href=https://colab.research.google.com/notebooks/data_table.ipynb>data table notebook</a>'\n",
              "            + ' to learn more about interactive tables.';\n",
              "          element.innerHTML = '';\n",
              "          dataTable['output_type'] = 'display_data';\n",
              "          await google.colab.output.renderOutput(dataTable, element);\n",
              "          const docLink = document.createElement('div');\n",
              "          docLink.innerHTML = docLinkHtml;\n",
              "          element.appendChild(docLink);\n",
              "        }\n",
              "      </script>\n",
              "    </div>\n",
              "  </div>\n",
              "  "
            ],
            "application/vnd.google.colaboratory.module+javascript": "\n      import \"https://ssl.gstatic.com/colaboratory/data_table/a8bd4d5e58f96183/data_table.js\";\n\n      window.createDataTable({\n        data: [[{\n            'v': 0,\n            'f': \"0\",\n        },\n\" In May 1983, she married Nikos Karvelas, a composer, with whom she collaborated in 1975 and in November she gave birth to her daughter Sofia. After their marriage, she started a close collaboration with Karvelas. Since 1975, all her releases have become gold or platinum and have included songs by Karvelas. In 1986, she participated at the Cypriot National Final for Eurovision Song Contest with the song Thelo Na Gino Star (\\\"I Want To Be A Star\\\"), taking second place. This song is still unreleased up to date. In 1984, Vissi left her record company EMI Greece and signed with CBS Records Greece, which later became Sony Music Greece, a collaboration that lasted until 2013. In March 1984, she released Na 'Hes Kardia (\\\"If You Had a Heart\\\"). The album was certified gold. The following year her seventh album Kati Simveni (\\\"Something Is Happening\\\") was released which included one of her most famous songs, titled \\\"Dodeka\\\" [\\\"Twelve (O'Clock)\\\"] and reached gold status selling 80.000 units. In 1986 I Epomeni Kinisi (\\\"The Next Move\\\") was released. The album included the hit Pragmata (\\\"Things\\\") and went platinum, becoming the best selling record of the year. In February 1988 she released her ninth album Tora (\\\"Now\\\") and in December the album Empnefsi! (\\\"Inspiration!\\\") which went gold. In 1988, she made her debut as a radio producer on ANT1 Radio. Her radio program was titled after one of her songs Ta Koritsia Einai Atakta (\\\"Girls Are Naughty\\\") and was aired every weekend. In the same year, she participated with the song Klaio (\\\"I'm Crying\\\") at the Greek National Final for Eurovision Song Contest, finishing third. In 1989, she released the highly successful studio album Fotia (Fire), being one of the first albums to feature western sounds. The lead single Pseftika (\\\"Fake\\\") became a big hit and the album reached platinum status, selling 180.000 copies and becoming the second best selling record of 1990. She performed at \\\"Diogenis Palace\\\" in that same year, Athens's biggest nightclub/music hall at the time.\",\n\"In May 1983, she married Nikos Karvelas, a composer, \",\n\"what happened in 1983?\",\n\"What was the name of Nikos Karvelas?\"],\n [{\n            'v': 1,\n            'f': \"1\",\n        },\n\" In May 1983, she married Nikos Karvelas, a composer, with whom she collaborated in 1975 and in November she gave birth to her daughter Sofia. After their marriage, she started a close collaboration with Karvelas. Since 1975, all her releases have become gold or platinum and have included songs by Karvelas. In 1986, she participated at the Cypriot National Final for Eurovision Song Contest with the song Thelo Na Gino Star (\\\"I Want To Be A Star\\\"), taking second place. This song is still unreleased up to date. In 1984, Vissi left her record company EMI Greece and signed with CBS Records Greece, which later became Sony Music Greece, a collaboration that lasted until 2013. In March 1984, she released Na 'Hes Kardia (\\\"If You Had a Heart\\\"). The album was certified gold. The following year her seventh album Kati Simveni (\\\"Something Is Happening\\\") was released which included one of her most famous songs, titled \\\"Dodeka\\\" [\\\"Twelve (O'Clock)\\\"] and reached gold status selling 80.000 units. In 1986 I Epomeni Kinisi (\\\"The Next Move\\\") was released. The album included the hit Pragmata (\\\"Things\\\") and went platinum, becoming the best selling record of the year. In February 1988 she released her ninth album Tora (\\\"Now\\\") and in December the album Empnefsi! (\\\"Inspiration!\\\") which went gold. In 1988, she made her debut as a radio producer on ANT1 Radio. Her radio program was titled after one of her songs Ta Koritsia Einai Atakta (\\\"Girls Are Naughty\\\") and was aired every weekend. In the same year, she participated with the song Klaio (\\\"I'm Crying\\\") at the Greek National Final for Eurovision Song Contest, finishing third. In 1989, she released the highly successful studio album Fotia (Fire), being one of the first albums to feature western sounds. The lead single Pseftika (\\\"Fake\\\") became a big hit and the album reached platinum status, selling 180.000 copies and becoming the second best selling record of 1990. She performed at \\\"Diogenis Palace\\\" in that same year, Athens's biggest nightclub/music hall at the time.\",\n\"in November she gave birth to her daughter Sofia. \",\n\"did they have any children?\",\n\"What was the name of Vissi's daughter?\"]],\n        columns: [[\"number\", \"index\"], [\"string\", \"context\"], [\"string\", \"answer\"], [\"string\", \"target\"], [\"string\", \"prediction\"]],\n        columnOptions: [{\"width\": \"1px\", \"className\": \"index_column\"}],\n        rowsPerPage: 25,\n        helpUrl: \"https://colab.research.google.com/notebooks/data_table.ipynb\",\n        suppressOutputScrolling: true,\n        minimumWidth: undefined,\n      });\n    "
          },
          "metadata": {},
          "execution_count": 69
        }
      ]
    },
    {
      "cell_type": "code",
      "source": [
        "len(df)"
      ],
      "metadata": {
        "colab": {
          "base_uri": "https://localhost:8080/"
        },
        "id": "f6RLv5hkFull",
        "outputId": "97b65e70-493d-4a70-faec-259f13aedeac"
      },
      "execution_count": null,
      "outputs": [
        {
          "output_type": "execute_result",
          "data": {
            "text/plain": [
              "5868"
            ]
          },
          "metadata": {},
          "execution_count": 70
        }
      ]
    },
    {
      "cell_type": "markdown",
      "source": [
        "Add new rows to predictions csv\n",
        "\n",
        "(don't need to do if not running predictions in sample subsets)"
      ],
      "metadata": {
        "id": "yQNhNUoLS_6I"
      }
    },
    {
      "cell_type": "code",
      "source": [
        "# Create list of lists for rows in dataframe\n",
        "# new_data = df.values.tolist()\n",
        "\n",
        "# new_data"
      ],
      "metadata": {
        "id": "OF0Uu6nxS7HW"
      },
      "execution_count": null,
      "outputs": []
    },
    {
      "cell_type": "code",
      "source": [
        "# import csv\n",
        "\n",
        "# # Add new rows to csv\n",
        "\n",
        "# with open(prediction_file, 'a') as file:\n",
        "#     writer = csv.writer(file)\n",
        "#     # writer.writerow(student_header)\n",
        "#     # Use writerows() not writerow()\n",
        "#     writer.writerows(new_data)"
      ],
      "metadata": {
        "id": "9MNoCMawTFKB"
      },
      "execution_count": null,
      "outputs": []
    },
    {
      "cell_type": "code",
      "source": [
        "# Close file\n",
        "# file.close()"
      ],
      "metadata": {
        "id": "vqChCGw-WwsX"
      },
      "execution_count": null,
      "outputs": []
    },
    {
      "cell_type": "markdown",
      "source": [
        "Save predictions"
      ],
      "metadata": {
        "id": "6XMaYULKqW_Q"
      }
    },
    {
      "cell_type": "code",
      "source": [
        "if save_predictions:\n",
        "  df.to_csv(prediction_file, mode=save_mode)"
      ],
      "metadata": {
        "id": "FH-rh5TrqUOs"
      },
      "execution_count": null,
      "outputs": []
    },
    {
      "cell_type": "code",
      "source": [],
      "metadata": {
        "id": "ixrtfyBGQ0Z7"
      },
      "execution_count": null,
      "outputs": []
    },
    {
      "cell_type": "markdown",
      "source": [
        "Unused code"
      ],
      "metadata": {
        "id": "vf5_muMmQ2IE"
      }
    },
    {
      "cell_type": "code",
      "source": [
        "# predictions = []\n",
        "\n",
        "# if start_sample is None:\n",
        "#   start_sample = 0\n",
        "\n",
        "# if end_sample is None:\n",
        "#   end_sample = validation_df.shape[0]\n",
        "\n",
        "# print(f\"Generating predictions from {start_sample} to {end_sample}:\")\n",
        "# for start in range (start_sample, end_sample, batch_size):\n",
        "#   to = min([end_sample, start + batch_size])\n",
        "#   inputs = bart_tokenizer(validation_df['orig'][start:to].to_list(), return_tensors='pt', max_length=max_length, truncation=True, padding=True)\n",
        "#   output_ids = bart_model.generate(inputs['input_ids'].cuda(), max_length=max_length)\n",
        "#   prediction_batch = bart_tokenizer.batch_decode(output_ids, skip_special_tokens=True)\n",
        "#   predictions.extend(prediction_batch)\n",
        "#   print (f\"{to} \", end=\"\")\n",
        "#   if to%1000 == 0: print()\n",
        "# print(\"Predictions generated.\")"
      ],
      "metadata": {
        "colab": {
          "base_uri": "https://localhost:8080/"
        },
        "id": "9LR5IbJ5nfHS",
        "outputId": "42c16a4a-b033-4951-d60a-de92244af0ca"
      },
      "execution_count": null,
      "outputs": [
        {
          "output_type": "stream",
          "name": "stdout",
          "text": [
            "Generating predictions from 10000 to 10570:\n"
          ]
        }
      ]
    },
    {
      "cell_type": "code",
      "source": [
        "# df=pd.DataFrame()\n",
        "# df['context'] = [str.split('context: ')[1] for str in validation_df['orig'][start_sample:end_sample]]\n",
        "# df['answer'] =  [str.split('context: ')[0][26: ] for str in validation_df['orig'][start_sample:end_sample]]\n",
        "# df['target'] = validation_df['target']\n",
        "# df['prediction'] = predictions"
      ],
      "metadata": {
        "id": "R_i0i5jxnfJ5"
      },
      "execution_count": null,
      "outputs": []
    }
  ]
}